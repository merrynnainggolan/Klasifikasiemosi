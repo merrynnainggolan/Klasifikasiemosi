{
 "cells": [
  {
   "cell_type": "markdown",
   "id": "7a0d76df-d4bf-4a81-95bc-7d432cd4105c",
   "metadata": {},
   "source": [
    "# LIBRARY"
   ]
  },
  {
   "cell_type": "code",
   "execution_count": 1,
   "id": "116216fe-bd81-4788-ac9d-8c7a1755fcbc",
   "metadata": {},
   "outputs": [],
   "source": [
    "import pandas as pd\n",
    "import numpy as np\n",
    "import re, joblib\n",
    "import collections\n",
    "from sklearn.feature_extraction.text import CountVectorizer, TfidfVectorizer\n",
    "from sklearn.svm import SVC\n",
    "from sklearn.neighbors import KNeighborsClassifier\n",
    "from imblearn.over_sampling import SMOTE\n",
    "from collections import Counter\n",
    "from sklearn.model_selection import train_test_split, cross_validate, GridSearchCV\n",
    "from sklearn.metrics import accuracy_score, precision_score, recall_score, f1_score\n",
    "from sklearn.metrics import confusion_matrix, classification_report"
   ]
  },
  {
   "cell_type": "markdown",
   "id": "0dcf4496-19f4-4d8b-a7f9-0d3f88dad35e",
   "metadata": {},
   "source": [
    "# DATASET"
   ]
  },
  {
   "cell_type": "code",
   "execution_count": 2,
   "id": "c1a3f161-a345-4d14-b805-04a65f154eab",
   "metadata": {},
   "outputs": [
    {
     "data": {
      "text/html": [
       "<div>\n",
       "<style scoped>\n",
       "    .dataframe tbody tr th:only-of-type {\n",
       "        vertical-align: middle;\n",
       "    }\n",
       "\n",
       "    .dataframe tbody tr th {\n",
       "        vertical-align: top;\n",
       "    }\n",
       "\n",
       "    .dataframe thead th {\n",
       "        text-align: right;\n",
       "    }\n",
       "</style>\n",
       "<table border=\"1\" class=\"dataframe\">\n",
       "  <thead>\n",
       "    <tr style=\"text-align: right;\">\n",
       "      <th></th>\n",
       "      <th>label</th>\n",
       "      <th>tweet</th>\n",
       "    </tr>\n",
       "  </thead>\n",
       "  <tbody>\n",
       "    <tr>\n",
       "      <th>0</th>\n",
       "      <td>anger</td>\n",
       "      <td>soal jalan jatibaru polisi tidak bisa gertak g...</td>\n",
       "    </tr>\n",
       "    <tr>\n",
       "      <th>1</th>\n",
       "      <td>anger</td>\n",
       "      <td>sesama cewek lho  kayaknya   harusnya bisa leb...</td>\n",
       "    </tr>\n",
       "    <tr>\n",
       "      <th>2</th>\n",
       "      <td>happy</td>\n",
       "      <td>kepingin gudeg mbarek bu hj  amad foto dari go...</td>\n",
       "    </tr>\n",
       "    <tr>\n",
       "      <th>3</th>\n",
       "      <td>anger</td>\n",
       "      <td>jln jatibaru bagian dari wilayah tanah abang p...</td>\n",
       "    </tr>\n",
       "    <tr>\n",
       "      <th>4</th>\n",
       "      <td>happy</td>\n",
       "      <td>sharing pengalaman saja  kemarin jam   batalin...</td>\n",
       "    </tr>\n",
       "  </tbody>\n",
       "</table>\n",
       "</div>"
      ],
      "text/plain": [
       "   label                                              tweet\n",
       "0  anger  soal jalan jatibaru polisi tidak bisa gertak g...\n",
       "1  anger  sesama cewek lho  kayaknya   harusnya bisa leb...\n",
       "2  happy  kepingin gudeg mbarek bu hj  amad foto dari go...\n",
       "3  anger  jln jatibaru bagian dari wilayah tanah abang p...\n",
       "4  happy  sharing pengalaman saja  kemarin jam   batalin..."
      ]
     },
     "execution_count": 2,
     "metadata": {},
     "output_type": "execute_result"
    }
   ],
   "source": [
    "df = pd.read_csv('dataset.csv')\n",
    "df.head()"
   ]
  },
  {
   "cell_type": "markdown",
   "id": "1d673158-7800-444e-be16-60541b555f6d",
   "metadata": {
    "tags": []
   },
   "source": [
    "# TWEET DAN LABEL DATASET"
   ]
  },
  {
   "cell_type": "code",
   "execution_count": 3,
   "id": "1d8c7b19-6e60-472f-a089-fcd4768e9d05",
   "metadata": {},
   "outputs": [],
   "source": [
    "text = df['tweet']\n",
    "Y = df['label'].values"
   ]
  },
  {
   "cell_type": "markdown",
   "id": "121ede89-0a06-4610-8ad0-44c2c3b0424b",
   "metadata": {},
   "source": [
    "# VEKTORISASI"
   ]
  },
  {
   "cell_type": "markdown",
   "id": "147cb416-9b66-48e3-8b01-778b9d009a20",
   "metadata": {},
   "source": [
    "## 1. TF-IDF"
   ]
  },
  {
   "cell_type": "code",
   "execution_count": 4,
   "id": "8d1c7116-2f46-42ab-b957-f38a6234d113",
   "metadata": {},
   "outputs": [],
   "source": [
    "tfidf = TfidfVectorizer()\n",
    "X_tfidf = tfidf.fit_transform(text)"
   ]
  },
  {
   "cell_type": "markdown",
   "id": "05da16bf-15d8-4e49-bdce-a0ed2c361b65",
   "metadata": {},
   "source": [
    "## 2. BIGRAM"
   ]
  },
  {
   "cell_type": "code",
   "execution_count": 5,
   "id": "2bfdf625-0bf0-4491-a433-d23a79072d60",
   "metadata": {},
   "outputs": [],
   "source": [
    "bigram = CountVectorizer(ngram_range=(2,2))\n",
    "X_bigram = bigram.fit_transform(text)"
   ]
  },
  {
   "cell_type": "markdown",
   "id": "ce377f49-b786-4ebc-b950-f82e9d9d7003",
   "metadata": {},
   "source": [
    "# OVERSAMPLING"
   ]
  },
  {
   "cell_type": "markdown",
   "id": "2eda838a-f2e0-4cce-abb0-ca68401b95a7",
   "metadata": {},
   "source": [
    "## 1. SMOTE TF-IDF"
   ]
  },
  {
   "cell_type": "code",
   "execution_count": 6,
   "id": "340acabc-8909-4719-980b-65a3fa13e3f0",
   "metadata": {},
   "outputs": [
    {
     "name": "stdout",
     "output_type": "stream",
     "text": [
      "Sebelum SMOTE : Counter({'anger': 1101, 'happy': 1017, 'sadness': 997, 'fear': 649, 'love': 637})\n",
      "Setelah SMOTE : Counter({'anger': 1101, 'happy': 1101, 'sadness': 1101, 'love': 1101, 'fear': 1101})\n"
     ]
    }
   ],
   "source": [
    "counter = Counter(Y)\n",
    "print('Sebelum SMOTE :',counter)\n",
    "# oversampling the train dataset using SMOTE\n",
    "smt = SMOTE(random_state=0)\n",
    "X_tfidf_sm, Y_tfidf_sm = smt.fit_resample(X_tfidf, Y)\n",
    "\n",
    "counter = Counter(Y_tfidf_sm)\n",
    "print('Setelah SMOTE :',counter)"
   ]
  },
  {
   "cell_type": "markdown",
   "id": "e4ea27b8-9ff7-4238-8fb8-e927348a5257",
   "metadata": {},
   "source": [
    "## 2. SMOTE BIGRAM"
   ]
  },
  {
   "cell_type": "code",
   "execution_count": 7,
   "id": "d8c9f332-1bd7-4c51-993d-55f69ff71bbe",
   "metadata": {},
   "outputs": [
    {
     "name": "stdout",
     "output_type": "stream",
     "text": [
      "Sebelum SMOTE : Counter({'anger': 1101, 'happy': 1017, 'sadness': 997, 'fear': 649, 'love': 637})\n",
      "Sebelum SMOTE : Counter({'anger': 1101, 'happy': 1101, 'sadness': 1101, 'love': 1101, 'fear': 1101})\n"
     ]
    }
   ],
   "source": [
    "counter = Counter(Y)\n",
    "print('Sebelum SMOTE :',counter)\n",
    "# oversampling the train dataset using SMOTE\n",
    "smt = SMOTE(random_state=0)\n",
    "X_bigram_sm, Y_bigram_sm = smt.fit_resample(X_bigram, Y)\n",
    "\n",
    "counter = Counter(Y_bigram_sm)\n",
    "print('Sebelum SMOTE :',counter)"
   ]
  },
  {
   "cell_type": "markdown",
   "id": "ce04d063-3bab-4876-b8d7-e9ee0269a77d",
   "metadata": {},
   "source": [
    "# PEMBAGIAN DATASET"
   ]
  },
  {
   "cell_type": "markdown",
   "id": "e2c04d17-4f1d-4b16-87e0-7b31d92364f9",
   "metadata": {},
   "source": [
    "## 1. TRAINING DAN TESTING (SMOTE TF-IDF)"
   ]
  },
  {
   "cell_type": "code",
   "execution_count": 8,
   "id": "c4d9cea2-b5f1-455d-9caf-2a9408a13c37",
   "metadata": {},
   "outputs": [
    {
     "name": "stdout",
     "output_type": "stream",
     "text": [
      "(4954, 18037)\n",
      "(551, 18037)\n",
      "(4954,)\n",
      "(551,)\n"
     ]
    }
   ],
   "source": [
    "X_train_tfidf, X_test_tfidf, Y_train_tfidf, Y_test_tfidf = train_test_split(X_tfidf_sm, Y_tfidf_sm, test_size=0.1, random_state=0, stratify = Y_tfidf_sm)\n",
    "print(X_train_tfidf.shape)\n",
    "print(X_test_tfidf.shape)\n",
    "print(Y_train_tfidf.shape)\n",
    "print(Y_test_tfidf.shape)"
   ]
  },
  {
   "cell_type": "markdown",
   "id": "55f0a004-8e86-4eb2-be14-60027f8e0c07",
   "metadata": {},
   "source": [
    "## 2. TRAINING DAN TESTING (SMOTE BIGRAM)"
   ]
  },
  {
   "cell_type": "code",
   "execution_count": 9,
   "id": "437e0f94-d2fe-43f2-bb9f-d537b8597603",
   "metadata": {},
   "outputs": [
    {
     "name": "stdout",
     "output_type": "stream",
     "text": [
      "(4954, 86121)\n",
      "(551, 86121)\n",
      "(4954,)\n",
      "(551,)\n"
     ]
    }
   ],
   "source": [
    "X_train_bigram, X_test_bigram, Y_train_bigram, Y_test_bigram = train_test_split(X_bigram_sm, Y_bigram_sm, test_size=0.1, random_state=0, stratify = Y_bigram_sm)\n",
    "print(X_train_bigram.shape)\n",
    "print(X_test_bigram.shape)\n",
    "print(Y_train_bigram.shape)\n",
    "print(Y_test_bigram.shape)"
   ]
  },
  {
   "cell_type": "markdown",
   "id": "f748155a-5d7d-4b13-8ca1-67158d66a451",
   "metadata": {},
   "source": [
    "# GRID-SEARCH TIAP SKENARIO\n",
    "### Algoritma : KNN dan SVM Kernel RBF"
   ]
  },
  {
   "cell_type": "markdown",
   "id": "cd8ea4c0-775e-4795-9379-5eabba78c29b",
   "metadata": {},
   "source": [
    "## 1. KNN (SMOTE + TF-IDF)\n",
    "#### Hyperparameter berupa nilai N_Neighbor dengan range (1 hingga 45)"
   ]
  },
  {
   "cell_type": "code",
   "execution_count": 10,
   "id": "f4ad7214-c9a1-45d0-9749-d59cf7323c51",
   "metadata": {},
   "outputs": [],
   "source": [
    "model1 = KNeighborsClassifier()"
   ]
  },
  {
   "cell_type": "code",
   "execution_count": 11,
   "id": "53054249-cad1-4880-902f-02e3a1b6ecf9",
   "metadata": {},
   "outputs": [
    {
     "name": "stdout",
     "output_type": "stream",
     "text": [
      "Hasil tuning hyperprameter : {'n_neighbors': 1}\n"
     ]
    }
   ],
   "source": [
    "#inisialiasi kombinasi nilai hyperparameter untuk tuning\n",
    "params_search1 = {'n_neighbors': list(range(1, 45 ))}\n",
    "#melakukan tuning hyperparameter terhadap model\n",
    "tune_params1 = GridSearchCV(model1, params_search1, cv=10, n_jobs=-1).fit(X_train_tfidf, Y_train_tfidf)\n",
    "tune_params1\n",
    "#menampilkan nilai hyperparameter terbaik\n",
    "print('Hasil tuning hyperprameter :', tune_params1.best_params_) "
   ]
  },
  {
   "cell_type": "markdown",
   "id": "34548a03-df65-4f99-b2c7-1b7bf0615278",
   "metadata": {},
   "source": [
    "## 2. SVM-RBF (SMOTE + TF-IDF)"
   ]
  },
  {
   "cell_type": "code",
   "execution_count": 12,
   "id": "9add9b65-12c1-41c3-8763-bad93693f38c",
   "metadata": {},
   "outputs": [],
   "source": [
    "model2 = SVC(kernel='rbf')"
   ]
  },
  {
   "cell_type": "code",
   "execution_count": 13,
   "id": "f3133f73",
   "metadata": {},
   "outputs": [
    {
     "name": "stdout",
     "output_type": "stream",
     "text": [
      "Hasil tuning hyperprameter : {'C': 10, 'gamma': 0.1}\n"
     ]
    }
   ],
   "source": [
    "#inisialiasi kombinasi nilai hyperparameter untuk tuning\n",
    "params_search2 = [{'gamma': [0.005, 0.05, 0.1, 0.5, 0.75], 'C': [0.5, 0.75, 1, 10, 100]}]\n",
    "#melakukan tuning hyperparameter terhadap model\n",
    "tune_params2 = GridSearchCV(model2, params_search2, cv=10, n_jobs=-1).fit(X_train_tfidf, Y_train_tfidf)\n",
    "tune_params2\n",
    "#menampilkan nilai hyperparameter terbaik\n",
    "print('Hasil tuning hyperprameter :', tune_params2.best_params_) "
   ]
  },
  {
   "cell_type": "markdown",
   "id": "fbea8cdf-7d19-47db-80b9-cdfdd51579b6",
   "metadata": {},
   "source": [
    "## 3. KNN (SMOTE + BIGRAM)"
   ]
  },
  {
   "cell_type": "code",
   "execution_count": 14,
   "id": "b8fc0664",
   "metadata": {},
   "outputs": [],
   "source": [
    "model3 = KNeighborsClassifier()"
   ]
  },
  {
   "cell_type": "code",
   "execution_count": 15,
   "id": "dcc264e0-60b3-4c8c-acfc-6ee9952616bf",
   "metadata": {},
   "outputs": [
    {
     "name": "stdout",
     "output_type": "stream",
     "text": [
      "Hasil tuning hyperprameter : {'n_neighbors': 1}\n"
     ]
    }
   ],
   "source": [
    "#inisialiasi kombinasi nilai hyperparameter untuk tuning\n",
    "params_search3 = {'n_neighbors': list(range(1, 45 ))}\n",
    "#melakukan tuning hyperparameter terhadap model\n",
    "tune_params3 = GridSearchCV(model3, params_search3, cv=10, n_jobs=-1).fit(X_train_bigram, Y_train_bigram)\n",
    "tune_params3\n",
    "#menampilkan nilai hyperparameter terbaik\n",
    "print('Hasil tuning hyperprameter :', tune_params3.best_params_) "
   ]
  },
  {
   "cell_type": "markdown",
   "id": "fc42126a-87e0-42fb-8c4a-b63aab8aeb1e",
   "metadata": {},
   "source": [
    "## 4. SVM-RBF (SMOTE + BIGRAM)"
   ]
  },
  {
   "cell_type": "code",
   "execution_count": 16,
   "id": "9ae5eaff-1ee9-4701-a211-5d5610dec7ce",
   "metadata": {},
   "outputs": [],
   "source": [
    "model4 = SVC(kernel='rbf')"
   ]
  },
  {
   "cell_type": "code",
   "execution_count": 17,
   "id": "6ec46fc6-e038-4215-8990-01b5624e115f",
   "metadata": {},
   "outputs": [
    {
     "name": "stdout",
     "output_type": "stream",
     "text": [
      "Hasil tuning hyperprameter : {'C': 10, 'gamma': 0.005}\n"
     ]
    }
   ],
   "source": [
    "#inisialiasi kombinasi nilai hyperparameter untuk tuning\n",
    "params_search4 = [{'gamma': [0.005, 0.05, 0.1, 0.5, 0.75], 'C': [0.5, 0.75, 1, 10, 100]}]\n",
    "#melakukan tuning hyperparameter terhadap model\n",
    "tune_params4 = GridSearchCV(model4, params_search4, cv=10, n_jobs=-1).fit(X_train_bigram, Y_train_bigram)\n",
    "tune_params4\n",
    "#menampilkan nilai hyperparameter terbaik\n",
    "print('Hasil tuning hyperprameter :', tune_params4.best_params_) "
   ]
  },
  {
   "cell_type": "code",
   "execution_count": null,
   "id": "963f1f31-c8cc-45a2-a409-f6cb23aeb54e",
   "metadata": {},
   "outputs": [],
   "source": []
  }
 ],
 "metadata": {
  "kernelspec": {
   "display_name": "Python 3 (ipykernel)",
   "language": "python",
   "name": "python3"
  },
  "language_info": {
   "codemirror_mode": {
    "name": "ipython",
    "version": 3
   },
   "file_extension": ".py",
   "mimetype": "text/x-python",
   "name": "python",
   "nbconvert_exporter": "python",
   "pygments_lexer": "ipython3",
   "version": "3.10.8"
  }
 },
 "nbformat": 4,
 "nbformat_minor": 5
}
